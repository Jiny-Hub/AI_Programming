{
  "nbformat": 4,
  "nbformat_minor": 0,
  "metadata": {
    "colab": {
      "provenance": []
    },
    "kernelspec": {
      "name": "python3",
      "display_name": "Python 3"
    },
    "language_info": {
      "name": "python"
    }
  },
  "cells": [
    {
      "cell_type": "code",
      "execution_count": null,
      "metadata": {
        "id": "6nJFmi1Ew8Zi"
      },
      "outputs": [],
      "source": []
    },
    {
      "cell_type": "markdown",
      "source": [
        "# 인공지능프로그래밍"
      ],
      "metadata": {
        "id": "DA0szzaXxARZ"
      }
    },
    {
      "cell_type": "code",
      "source": [
        "import numpy as np\n",
        "test_array=np.array([1,4,5,8],float)"
      ],
      "metadata": {
        "id": "GSWDUaw-P4v_"
      },
      "execution_count": null,
      "outputs": []
    },
    {
      "cell_type": "code",
      "source": [
        "print(test_array)"
      ],
      "metadata": {
        "id": "AWaTQn9Pbz79",
        "outputId": "485b6f56-d1bc-48e2-ee02-efc4e7e0674f",
        "colab": {
          "base_uri": "https://localhost:8080/"
        }
      },
      "execution_count": null,
      "outputs": [
        {
          "output_type": "stream",
          "name": "stdout",
          "text": [
            "[1. 4. 5. 8.]\n"
          ]
        }
      ]
    },
    {
      "cell_type": "code",
      "source": [
        "np.array( [ [1, 2, 3.5], [4, 5, 6.5]], dtype=int)"
      ],
      "metadata": {
        "id": "_B2QqvASdQ3-",
        "outputId": "b8b613ec-9bdb-432c-dd97-6c52e31aa21e",
        "colab": {
          "base_uri": "https://localhost:8080/"
        }
      },
      "execution_count": null,
      "outputs": [
        {
          "output_type": "execute_result",
          "data": {
            "text/plain": [
              "array([[1, 2, 3],\n",
              "       [4, 5, 6]])"
            ]
          },
          "metadata": {},
          "execution_count": 4
        }
      ]
    },
    {
      "cell_type": "code",
      "source": [
        "x = np.array([[1, 2, 5, 8], [1, 2, 5, 8]])\n",
        "x.shape"
      ],
      "metadata": {
        "id": "qGdSKxKFdfQU",
        "outputId": "8a39ef2e-3854-4503-ac83-625ad46df96e",
        "colab": {
          "base_uri": "https://localhost:8080/"
        }
      },
      "execution_count": null,
      "outputs": [
        {
          "output_type": "execute_result",
          "data": {
            "text/plain": [
              "(2, 4)"
            ]
          },
          "metadata": {},
          "execution_count": 5
        }
      ]
    },
    {
      "cell_type": "code",
      "source": [
        "x.reshape(-1,)"
      ],
      "metadata": {
        "id": "7C48qQ1xd61N",
        "outputId": "b0f1a574-dad6-4990-e55a-f8b591b07122",
        "colab": {
          "base_uri": "https://localhost:8080/"
        }
      },
      "execution_count": null,
      "outputs": [
        {
          "output_type": "execute_result",
          "data": {
            "text/plain": [
              "array([1, 2, 5, 8, 1, 2, 5, 8])"
            ]
          },
          "metadata": {},
          "execution_count": 6
        }
      ]
    },
    {
      "cell_type": "code",
      "source": [
        "a = np.array([10,20,30])\n",
        "a*10"
      ],
      "metadata": {
        "id": "EfdVDYeVd9vF",
        "outputId": "01c43044-1f08-4993-920e-05794de33e86",
        "colab": {
          "base_uri": "https://localhost:8080/"
        }
      },
      "execution_count": null,
      "outputs": [
        {
          "output_type": "execute_result",
          "data": {
            "text/plain": [
              "array([100, 200, 300])"
            ]
          },
          "metadata": {},
          "execution_count": 8
        }
      ]
    },
    {
      "cell_type": "code",
      "source": [
        "import numpy as np\n",
        "\n",
        "np.random.seed(85)\n",
        "a = np.arange(1, 46)\n",
        "np.random.shuffle(a)\n",
        "lotto = a[:6]\n",
        "\n",
        "print('lotto = ', lotto)"
      ],
      "metadata": {
        "id": "SJJcXqkajJIc",
        "outputId": "68f9f377-5fd7-4d5e-ef9c-cfbbaf0a6f50",
        "colab": {
          "base_uri": "https://localhost:8080/"
        }
      },
      "execution_count": null,
      "outputs": [
        {
          "output_type": "stream",
          "name": "stdout",
          "text": [
            "lotto =  [22  9 15 44 39 37]\n"
          ]
        }
      ]
    },
    {
      "cell_type": "code",
      "source": [
        "import numpy as np\n",
        "\n",
        "np.random.seed(85)\n",
        "a = np.arange(1, 46)\n",
        "np.random.shuffle(a)\n",
        "lotto = a[:6]\n",
        "\n",
        "print('lotto = ', lotto)"
      ],
      "metadata": {
        "id": "Ih-9cGLDn6LU",
        "outputId": "1c306a8f-1202-4579-fbf4-f2842a4e6673",
        "colab": {
          "base_uri": "https://localhost:8080/"
        }
      },
      "execution_count": null,
      "outputs": [
        {
          "output_type": "stream",
          "name": "stdout",
          "text": [
            "lotto =  [22  9 15 44 39 37]\n"
          ]
        }
      ]
    },
    {
      "cell_type": "code",
      "source": [
        "import numpy as np\n",
        "\n",
        "np.random.seed(85)\n",
        "results = []\n",
        "\n",
        "for _ in range(3):\n",
        "    a = np.arange(1, 46)\n",
        "    np.random.shuffle(a)\n",
        "    lotto = a[:6]\n",
        "    results.append(lotto)\n",
        "\n",
        "lotto_array = np.array(results)\n",
        "\n",
        "print('lotto_array = \\n', lotto_array)"
      ],
      "metadata": {
        "id": "31c88qTgoILz",
        "outputId": "ed72c56c-d40d-4620-c14a-cb43327a75f1",
        "colab": {
          "base_uri": "https://localhost:8080/"
        }
      },
      "execution_count": null,
      "outputs": [
        {
          "output_type": "stream",
          "name": "stdout",
          "text": [
            "lotto_array = \n",
            " [[22  9 15 44 39 37]\n",
            " [ 7 31 24 40 11 16]\n",
            " [ 8  3 23 40 38 32]]\n"
          ]
        }
      ]
    },
    {
      "cell_type": "code",
      "source": [
        "import numpy as np\n",
        "\n",
        "\n",
        "for _ in range(3):\n",
        "    a = np.arange(1, 46)\n",
        "    np.random.shuffle(a)\n",
        "    lotto = a[:6]\n",
        "    results.append(lotto)\n",
        "\n",
        "lotto_array = np.array(results)\n",
        "\n",
        "print('lotto_array = \\n', lotto_array)"
      ],
      "metadata": {
        "id": "LcgNsXNeo717",
        "outputId": "30ca6d7b-0436-43f7-ff33-8c867c123729",
        "colab": {
          "base_uri": "https://localhost:8080/"
        }
      },
      "execution_count": null,
      "outputs": [
        {
          "output_type": "stream",
          "name": "stdout",
          "text": [
            "lotto_array = \n",
            " [[22  9 15 44 39 37]\n",
            " [ 7 31 24 40 11 16]\n",
            " [ 8  3 23 40 38 32]\n",
            " [28  8 43 23 22 35]\n",
            " [16 11 30 18 10 12]\n",
            " [24 32 17 16 43 33]]\n"
          ]
        }
      ]
    },
    {
      "cell_type": "code",
      "source": [
        "import numpy as np\n",
        "\n",
        "shape = (3,4,5)\n",
        "arr = np.random.randint(0,10,shape)\n",
        "\n",
        "print(arr)"
      ],
      "metadata": {
        "id": "NueY6YoxrBUj",
        "outputId": "e250ff50-0027-44df-af6f-ddc9f6904d10",
        "colab": {
          "base_uri": "https://localhost:8080/"
        }
      },
      "execution_count": null,
      "outputs": [
        {
          "output_type": "stream",
          "name": "stdout",
          "text": [
            "[[[6 8 8 9 1]\n",
            "  [0 7 0 8 3]\n",
            "  [8 1 0 7 1]\n",
            "  [6 6 0 4 6]]\n",
            "\n",
            " [[1 1 2 9 1]\n",
            "  [9 6 2 0 0]\n",
            "  [0 0 3 5 8]\n",
            "  [5 2 1 6 6]]\n",
            "\n",
            " [[6 5 8 1 6]\n",
            "  [7 8 8 1 4]\n",
            "  [8 0 4 2 7]\n",
            "  [6 1 7 6 9]]]\n"
          ]
        }
      ]
    },
    {
      "cell_type": "code",
      "source": [
        "import numpy as np\n",
        "\n",
        "shape = (3,3,6)  #3차원배열\n",
        "arr = np.random.randint(0,20,shape)\n",
        "\n",
        "print(arr)"
      ],
      "metadata": {
        "id": "eLWbIdlJsQqT",
        "outputId": "5145d9f1-7af0-47ec-f320-64f76984ca2e",
        "colab": {
          "base_uri": "https://localhost:8080/"
        }
      },
      "execution_count": null,
      "outputs": [
        {
          "output_type": "stream",
          "name": "stdout",
          "text": [
            "[[[ 3  7 15  0  0 19]\n",
            "  [ 0 17  7 12  1 12]\n",
            "  [ 7  1 19 11 13  6]]\n",
            "\n",
            " [[ 5 18  2  1 14  3]\n",
            "  [ 0 10  4  5  6 15]\n",
            "  [19  2 17  1 14  4]]\n",
            "\n",
            " [[ 2 12  9  5 19  5]\n",
            "  [ 7  2 19  1  5  3]\n",
            "  [ 1  7  5 10 14 12]]]\n"
          ]
        }
      ]
    },
    {
      "cell_type": "code",
      "source": [
        "import numpy as np\n",
        "\n",
        "shape = (5,6)  #2차원배열\n",
        "arr = np.random.randint(0,100,shape)\n",
        "\n",
        "print(arr)"
      ],
      "metadata": {
        "id": "QMou68Sssb8z",
        "outputId": "dd8cfbe9-2bb0-48c4-cb25-8a36f450a4dd",
        "colab": {
          "base_uri": "https://localhost:8080/"
        }
      },
      "execution_count": null,
      "outputs": [
        {
          "output_type": "stream",
          "name": "stdout",
          "text": [
            "[[29 55 40 34 62  5]\n",
            " [10  7 69 90 51 98]\n",
            " [24 41 16 40 33 87]\n",
            " [83 21  8 38 56  7]\n",
            " [ 3 97 96 96 33 43]]\n"
          ]
        }
      ]
    },
    {
      "cell_type": "code",
      "source": [
        "import numpy as np\n",
        "\n",
        "temp = np.arange(48)"
      ],
      "metadata": {
        "id": "dncSkPC-smky"
      },
      "execution_count": null,
      "outputs": []
    },
    {
      "cell_type": "code",
      "source": [
        "print(temp)"
      ],
      "metadata": {
        "id": "MIoWA5G6vKoB",
        "outputId": "cb832544-480c-43fe-a0de-21bd3b96d174",
        "colab": {
          "base_uri": "https://localhost:8080/"
        }
      },
      "execution_count": null,
      "outputs": [
        {
          "output_type": "stream",
          "name": "stdout",
          "text": [
            "[ 0  1  2  3  4  5  6  7  8  9 10 11 12 13 14 15 16 17 18 19 20 21 22 23\n",
            " 24 25 26 27 28 29 30 31 32 33 34 35 36 37 38 39 40 41 42 43 44 45 46 47]\n"
          ]
        }
      ]
    },
    {
      "cell_type": "code",
      "source": [
        "import numpy as np\n",
        "\n",
        "temp = np.arange(48)\n",
        "\n",
        "array_3d = temp.reshape(4,3,4)  #3차원배열\n",
        "print(array_3d)\n",
        "\n",
        "array_2d = temp.reshape(6,8)   #2차원배열\n",
        "print(array_2d)"
      ],
      "metadata": {
        "id": "YKjU_fHdvMEC",
        "outputId": "a130890e-5f93-496f-9a27-9a24e9c9618c",
        "colab": {
          "base_uri": "https://localhost:8080/"
        }
      },
      "execution_count": null,
      "outputs": [
        {
          "output_type": "stream",
          "name": "stdout",
          "text": [
            "[[[ 0  1  2  3]\n",
            "  [ 4  5  6  7]\n",
            "  [ 8  9 10 11]]\n",
            "\n",
            " [[12 13 14 15]\n",
            "  [16 17 18 19]\n",
            "  [20 21 22 23]]\n",
            "\n",
            " [[24 25 26 27]\n",
            "  [28 29 30 31]\n",
            "  [32 33 34 35]]\n",
            "\n",
            " [[36 37 38 39]\n",
            "  [40 41 42 43]\n",
            "  [44 45 46 47]]]\n",
            "[[ 0  1  2  3  4  5  6  7]\n",
            " [ 8  9 10 11 12 13 14 15]\n",
            " [16 17 18 19 20 21 22 23]\n",
            " [24 25 26 27 28 29 30 31]\n",
            " [32 33 34 35 36 37 38 39]\n",
            " [40 41 42 43 44 45 46 47]]\n"
          ]
        }
      ]
    },
    {
      "cell_type": "code",
      "source": [],
      "metadata": {
        "id": "LPupsbzuvmLp"
      },
      "execution_count": null,
      "outputs": []
    }
  ]
}